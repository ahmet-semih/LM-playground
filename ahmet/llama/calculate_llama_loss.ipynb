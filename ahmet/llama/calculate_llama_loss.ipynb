{
 "cells": [
  {
   "cell_type": "code",
   "execution_count": 7,
   "id": "c6edd0e7",
   "metadata": {},
   "outputs": [],
   "source": [
    "import torch\n",
    "device=\"cuda\" if torch.cuda.is_available() else \"mps\" if torch.backends.mps.is_available() else \"cpu\""
   ]
  },
  {
   "cell_type": "code",
   "execution_count": 12,
   "id": "56afad20",
   "metadata": {},
   "outputs": [],
   "source": [
    "import torch\n",
    "from torch.utils.data import Dataset, DataLoader\n",
    "\n",
    "pad_id = 5\n",
    "eos_id = 6\n",
    "\n",
    "def generate(model, x: torch.Tensor, max_new_tokens: int): # top_k, top_p, temperature\n",
    "  tokens = x.detach().cpu().numpy().tolist()\n",
    "\n",
    "  for _ in range(max_new_tokens):\n",
    "    x = x.unsqueeze(0).to(device)\n",
    "    out = model.forward(x)\n",
    "    out = out.squeeze(0)\n",
    "    probs = torch.softmax(out[-1], dim=-1)\n",
    "    _, max_index = torch.max(probs, dim=-1)\n",
    "    tokens.append(max_index.item())\n",
    "    if max_index == eos_id or len(tokens) > 256: # <eos> and max context length\n",
    "      break\n",
    "\n",
    "    x = torch.tensor(tokens)\n",
    "\n",
    "  return tokens"
   ]
  },
  {
   "cell_type": "code",
   "execution_count": null,
   "id": "b8f71731",
   "metadata": {},
   "outputs": [
    {
     "data": {
      "text/plain": [
       "LlamaForCausalLM(\n",
       "  (model): LlamaModel(\n",
       "    (embed_tokens): Embedding(32768, 256)\n",
       "    (layers): ModuleList(\n",
       "      (0-19): 20 x LlamaDecoderLayer(\n",
       "        (self_attn): LlamaAttention(\n",
       "          (q_proj): Linear(in_features=256, out_features=256, bias=False)\n",
       "          (k_proj): Linear(in_features=256, out_features=128, bias=False)\n",
       "          (v_proj): Linear(in_features=256, out_features=128, bias=False)\n",
       "          (o_proj): Linear(in_features=256, out_features=256, bias=False)\n",
       "        )\n",
       "        (mlp): LlamaMLP(\n",
       "          (gate_proj): Linear(in_features=256, out_features=2048, bias=False)\n",
       "          (up_proj): Linear(in_features=256, out_features=2048, bias=False)\n",
       "          (down_proj): Linear(in_features=2048, out_features=256, bias=False)\n",
       "          (act_fn): SiLU()\n",
       "        )\n",
       "        (input_layernorm): LlamaRMSNorm()\n",
       "        (post_attention_layernorm): LlamaRMSNorm()\n",
       "      )\n",
       "    )\n",
       "    (norm): LlamaRMSNorm()\n",
       "  )\n",
       "  (lm_head): Linear(in_features=256, out_features=32768, bias=False)\n",
       ")"
      ]
     },
     "execution_count": 3,
     "metadata": {},
     "output_type": "execute_result"
    }
   ],
   "source": [
    "from llama_config import LlamaConfig\n",
    "from llama_model import LlamaForCausalLM\n",
    "from safetensors.torch import load_file\n",
    "from huggingface_hub import hf_hub_download\n",
    "\n",
    "llama_config = LlamaConfig(\n",
    "    vocab_size=32768,\n",
    "    emb_dim=256,\n",
    "    context_length=256,\n",
    "    n_heads=128,\n",
    "    n_layers=20,\n",
    "    n_kv_groups=64,\n",
    "    hidden_dim=2048,\n",
    ")\n",
    "\n",
    "llama_model = LlamaForCausalLM(llama_config)\n",
    "llama_model = llama_model.to(device)\n",
    "\n",
    "model_path = hf_hub_download(\n",
    "    repo_id=\"AhmetSemih/llama-50m-pretrained-books-tr_tokenizer\",\n",
    "    filename=\"llama-50m-pretrained-books-tr_tokenizer.safetensors\",\n",
    ")\n",
    "\n",
    "state_dict = load_file(model_path)\n",
    "llama_model.load_state_dict(state_dict)\n",
    "\n",
    "llama_model.eval()"
   ]
  },
  {
   "cell_type": "code",
   "execution_count": null,
   "id": "6edede24",
   "metadata": {},
   "outputs": [],
   "source": [
    "sample_text = \"dedi ki\" # let say next word is \"neredeydin\" and next token is \"nere\" and id is 3018\n",
    "encoded_ids=[3452, 2, 20059]"
   ]
  },
  {
   "cell_type": "code",
   "execution_count": 22,
   "id": "70770cc2",
   "metadata": {},
   "outputs": [],
   "source": [
    "id_tensor = torch.tensor(encoded_ids, device=device)\n"
   ]
  },
  {
   "cell_type": "markdown",
   "id": "71f77001",
   "metadata": {},
   "source": [
    "-----------------------------------------------------------------------------\n",
    "\"c = vocab size, s = logits for input tokens, p = index of the correct token\""
   ]
  },
  {
   "cell_type": "markdown",
   "id": "1549c9d8",
   "metadata": {},
   "source": [
    "![alt text](https://framerusercontent.com/images/KWVlMyakoCF4DcOSjtN1WsAXs.webp?width=1300&height=348)"
   ]
  },
  {
   "cell_type": "code",
   "execution_count": 23,
   "id": "08c63b67",
   "metadata": {},
   "outputs": [
    {
     "data": {
      "text/plain": [
       "tensor([[[  7.3754,   1.6016,   5.1854,  ...,  -7.5244,  -6.4256, -12.8459],\n",
       "         [  0.6572,   1.1768,   1.8223,  ...,  -7.1019,  -4.7086, -14.1919],\n",
       "         [  4.9584,   0.2911,   6.3374,  ...,  -8.1821,  -7.5339, -15.9622]]],\n",
       "       device='mps:0', grad_fn=<LinearBackward0>)"
      ]
     },
     "execution_count": 23,
     "metadata": {},
     "output_type": "execute_result"
    }
   ],
   "source": [
    "out = llama_model(id_tensor.unsqueeze(0))\n",
    "out"
   ]
  },
  {
   "cell_type": "code",
   "execution_count": null,
   "id": "8a89b835",
   "metadata": {},
   "outputs": [
    {
     "data": {
      "text/plain": [
       "tensor([  4.9584,   0.2911,   6.3374,  ...,  -8.1821,  -7.5339, -15.9622],\n",
       "       device='mps:0', grad_fn=<SelectBackward0>)"
      ]
     },
     "execution_count": 24,
     "metadata": {},
     "output_type": "execute_result"
    }
   ],
   "source": [
    "output_logits=out[0][2] # logits for after \"ki\" token\n",
    "output_logits"
   ]
  },
  {
   "cell_type": "code",
   "execution_count": 30,
   "id": "09cd195f",
   "metadata": {},
   "outputs": [
    {
     "data": {
      "text/plain": [
       "tensor([  4.9584,   0.2911,   6.3374,  ...,  -8.1821,  -7.5339, -15.9622],\n",
       "       device='mps:0', grad_fn=<SliceBackward0>)"
      ]
     },
     "execution_count": 30,
     "metadata": {},
     "output_type": "execute_result"
    }
   ],
   "source": [
    "out[0,2,:]"
   ]
  },
  {
   "cell_type": "code",
   "execution_count": 29,
   "id": "6897d5b4",
   "metadata": {},
   "outputs": [
    {
     "data": {
      "text/plain": [
       "tensor([[  4.9584,   0.2911,   6.3374,  ...,  -8.1821,  -7.5339, -15.9622]],\n",
       "       device='mps:0', grad_fn=<SliceBackward0>)"
      ]
     },
     "execution_count": 29,
     "metadata": {},
     "output_type": "execute_result"
    }
   ],
   "source": [
    "out[:, -1, :]"
   ]
  },
  {
   "cell_type": "code",
   "execution_count": 25,
   "id": "63a5ceb3",
   "metadata": {},
   "outputs": [
    {
     "data": {
      "text/plain": [
       "tensor(13.3377, device='mps:0', grad_fn=<NllLossBackward0>)"
      ]
     },
     "execution_count": 25,
     "metadata": {},
     "output_type": "execute_result"
    }
   ],
   "source": [
    "#index of correct token (\"nere\") is 3018 \n",
    "#vocab size is 32768\n",
    "\n",
    "import torch.nn.functional as F\n",
    "\n",
    "correct_token_id = 3018\n",
    "F.cross_entropy(output_logits.unsqueeze(0), torch.tensor([correct_token_id], device=device))\n"
   ]
  },
  {
   "cell_type": "code",
   "execution_count": null,
   "id": "c8aaed67",
   "metadata": {},
   "outputs": [
    {
     "data": {
      "text/plain": [
       "32240"
      ]
     },
     "execution_count": 27,
     "metadata": {},
     "output_type": "execute_result"
    }
   ],
   "source": [
    "#find models prediction for next token\n",
    "probs = torch.softmax(output_logits, dim=-1)\n",
    "_, max_index = torch.max(probs, dim=-1)\n",
    "max_index.item()  # 32240 = \":\" token "
   ]
  }
 ],
 "metadata": {
  "kernelspec": {
   "display_name": "Python 3",
   "language": "python",
   "name": "python3"
  },
  "language_info": {
   "codemirror_mode": {
    "name": "ipython",
    "version": 3
   },
   "file_extension": ".py",
   "mimetype": "text/x-python",
   "name": "python",
   "nbconvert_exporter": "python",
   "pygments_lexer": "ipython3",
   "version": "3.11.4"
  }
 },
 "nbformat": 4,
 "nbformat_minor": 5
}
