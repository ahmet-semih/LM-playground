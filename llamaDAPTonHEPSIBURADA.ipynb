{
  "cells": [
    {
      "cell_type": "code",
      "execution_count": 1,
      "id": "FfUrVUBqeKSG",
      "metadata": {
        "id": "FfUrVUBqeKSG"
      },
      "outputs": [],
      "source": [
        "import os"
      ]
    },
    {
      "cell_type": "code",
      "execution_count": 2,
      "id": "73db2602",
      "metadata": {
        "id": "73db2602"
      },
      "outputs": [
        {
          "name": "stdout",
          "output_type": "stream",
          "text": [
            "Requirement already satisfied: twilio in /Library/Frameworks/Python.framework/Versions/3.13/lib/python3.13/site-packages (9.6.4)\n",
            "Requirement already satisfied: requests>=2.0.0 in /Library/Frameworks/Python.framework/Versions/3.13/lib/python3.13/site-packages (from twilio) (2.32.3)\n",
            "Requirement already satisfied: PyJWT<3.0.0,>=2.0.0 in /Library/Frameworks/Python.framework/Versions/3.13/lib/python3.13/site-packages (from twilio) (2.10.1)\n",
            "Requirement already satisfied: aiohttp>=3.8.4 in /Library/Frameworks/Python.framework/Versions/3.13/lib/python3.13/site-packages (from twilio) (3.12.13)\n",
            "Requirement already satisfied: aiohttp-retry>=2.8.3 in /Library/Frameworks/Python.framework/Versions/3.13/lib/python3.13/site-packages (from twilio) (2.9.1)\n",
            "Requirement already satisfied: aiohappyeyeballs>=2.5.0 in /Library/Frameworks/Python.framework/Versions/3.13/lib/python3.13/site-packages (from aiohttp>=3.8.4->twilio) (2.6.1)\n",
            "Requirement already satisfied: aiosignal>=1.1.2 in /Library/Frameworks/Python.framework/Versions/3.13/lib/python3.13/site-packages (from aiohttp>=3.8.4->twilio) (1.3.2)\n",
            "Requirement already satisfied: attrs>=17.3.0 in /Library/Frameworks/Python.framework/Versions/3.13/lib/python3.13/site-packages (from aiohttp>=3.8.4->twilio) (25.3.0)\n",
            "Requirement already satisfied: frozenlist>=1.1.1 in /Library/Frameworks/Python.framework/Versions/3.13/lib/python3.13/site-packages (from aiohttp>=3.8.4->twilio) (1.7.0)\n",
            "Requirement already satisfied: multidict<7.0,>=4.5 in /Library/Frameworks/Python.framework/Versions/3.13/lib/python3.13/site-packages (from aiohttp>=3.8.4->twilio) (6.5.0)\n",
            "Requirement already satisfied: propcache>=0.2.0 in /Library/Frameworks/Python.framework/Versions/3.13/lib/python3.13/site-packages (from aiohttp>=3.8.4->twilio) (0.3.2)\n",
            "Requirement already satisfied: yarl<2.0,>=1.17.0 in /Library/Frameworks/Python.framework/Versions/3.13/lib/python3.13/site-packages (from aiohttp>=3.8.4->twilio) (1.20.1)\n",
            "Requirement already satisfied: idna>=2.0 in /Library/Frameworks/Python.framework/Versions/3.13/lib/python3.13/site-packages (from yarl<2.0,>=1.17.0->aiohttp>=3.8.4->twilio) (3.10)\n",
            "Requirement already satisfied: charset-normalizer<4,>=2 in /Library/Frameworks/Python.framework/Versions/3.13/lib/python3.13/site-packages (from requests>=2.0.0->twilio) (3.4.2)\n",
            "Requirement already satisfied: urllib3<3,>=1.21.1 in /Library/Frameworks/Python.framework/Versions/3.13/lib/python3.13/site-packages (from requests>=2.0.0->twilio) (2.4.0)\n",
            "Requirement already satisfied: certifi>=2017.4.17 in /Library/Frameworks/Python.framework/Versions/3.13/lib/python3.13/site-packages (from requests>=2.0.0->twilio) (2025.4.26)\n",
            "Requirement already satisfied: bitsandbytes in /Library/Frameworks/Python.framework/Versions/3.13/lib/python3.13/site-packages (0.42.0)\n",
            "Requirement already satisfied: scipy in /Library/Frameworks/Python.framework/Versions/3.13/lib/python3.13/site-packages (from bitsandbytes) (1.16.0)\n",
            "Requirement already satisfied: numpy<2.6,>=1.25.2 in /Library/Frameworks/Python.framework/Versions/3.13/lib/python3.13/site-packages (from scipy->bitsandbytes) (2.3.0)\n",
            "'NoneType' object has no attribute 'cadam32bit_grad_fp32'\n"
          ]
        },
        {
          "name": "stderr",
          "output_type": "stream",
          "text": [
            "/Library/Frameworks/Python.framework/Versions/3.13/lib/python3.13/site-packages/bitsandbytes/cextension.py:34: UserWarning: The installed version of bitsandbytes was compiled without GPU support. 8-bit optimizers, 8-bit multiplication, and GPU quantization are unavailable.\n",
            "  warn(\"The installed version of bitsandbytes was compiled without GPU support. \"\n"
          ]
        }
      ],
      "source": [
        "!pip install twilio\n",
        "!pip install bitsandbytes\n",
        "\n",
        "import sys\n",
        "import torch\n",
        "import json\n",
        "sys.path.append(\"./llama_architecture\")\n",
        "from model_trnsfmrs import LlamaForCausalLM\n",
        "from config import LlamaConfig\n",
        "from datasets import load_dataset\n",
        "import numpy as np\n",
        "from tqdm import tqdm\n",
        "from safetensors import torch as sftorch\n",
        "from huggingface_hub import notebook_login, hf_hub_download, HfApi, HfFolder, upload_file\n",
        "from transformers import AutoTokenizer\n",
        "from bitsandbytes.optim import AdamW8bit\n",
        "from twilio.rest import Client"
      ]
    },
    {
      "cell_type": "code",
      "execution_count": 3,
      "id": "136r_0oSijP1",
      "metadata": {
        "id": "136r_0oSijP1"
      },
      "outputs": [],
      "source": [
        "api = HfApi()"
      ]
    },
    {
      "cell_type": "markdown",
      "id": "3a980e50",
      "metadata": {
        "id": "3a980e50"
      },
      "source": [
        "### Creating Model Architecture"
      ]
    },
    {
      "cell_type": "code",
      "execution_count": 4,
      "id": "Cl86IHMVk9yk",
      "metadata": {
        "id": "Cl86IHMVk9yk"
      },
      "outputs": [],
      "source": [
        "tokenizer = AutoTokenizer.from_pretrained(\"aliarda/turkish-news-32k-tokenizer\", use_fast=True)"
      ]
    },
    {
      "cell_type": "code",
      "execution_count": 5,
      "id": "1c6592f8",
      "metadata": {
        "id": "1c6592f8"
      },
      "outputs": [],
      "source": [
        "device=\"cuda\" if torch.cuda.is_available() else \"mps\" if torch.backends.mps.is_available() else \"cpu\"\n",
        "context_len=256"
      ]
    },
    {
      "cell_type": "code",
      "execution_count": 6,
      "id": "8BoIb06wYFfW",
      "metadata": {
        "id": "8BoIb06wYFfW"
      },
      "outputs": [],
      "source": [
        "model_path = hf_hub_download(repo_id=\"aliarda/llama-50M-randParams\", filename=\"llama-50M.safetensors\")\n",
        "state_dict = sftorch.load_file(model_path, device=device)"
      ]
    },
    {
      "cell_type": "code",
      "execution_count": 7,
      "id": "5621e8b7",
      "metadata": {
        "id": "5621e8b7"
      },
      "outputs": [
        {
          "data": {
            "text/plain": [
              "LlamaForCausalLM(\n",
              "  (model): LlamaModel(\n",
              "    (embed_tokens): Embedding(32768, 256)\n",
              "    (layers): ModuleList(\n",
              "      (0-19): 20 x LlamaDecoderLayer(\n",
              "        (self_attn): LlamaAttention(\n",
              "          (q_proj): Linear(in_features=256, out_features=256, bias=False)\n",
              "          (k_proj): Linear(in_features=256, out_features=128, bias=False)\n",
              "          (v_proj): Linear(in_features=256, out_features=128, bias=False)\n",
              "          (o_proj): Linear(in_features=256, out_features=256, bias=False)\n",
              "        )\n",
              "        (mlp): LlamaMLP(\n",
              "          (gate_proj): Linear(in_features=256, out_features=2048, bias=False)\n",
              "          (up_proj): Linear(in_features=256, out_features=2048, bias=False)\n",
              "          (down_proj): Linear(in_features=2048, out_features=256, bias=False)\n",
              "          (act_fn): SiLU()\n",
              "        )\n",
              "        (input_layernorm): LlamaRMSNorm()\n",
              "        (post_attention_layernorm): LlamaRMSNorm()\n",
              "      )\n",
              "    )\n",
              "    (norm): LlamaRMSNorm()\n",
              "  )\n",
              "  (lm_head): Linear(in_features=256, out_features=32768, bias=False)\n",
              ")"
            ]
          },
          "execution_count": 7,
          "metadata": {},
          "output_type": "execute_result"
        }
      ],
      "source": [
        "llama_config = LlamaConfig(\n",
        "    vocab_size=32768,\n",
        "    emb_dim=256,\n",
        "    context_length=context_len,\n",
        "    n_heads=128,\n",
        "    n_layers=20,\n",
        "    n_kv_groups=64,\n",
        "    hidden_dim=2048,\n",
        ")\n",
        "\n",
        "llama_model = LlamaForCausalLM(llama_config, tokenizer)\n",
        "llama_model = llama_model.to(device)\n",
        "llama_model"
      ]
    },
    {
      "cell_type": "code",
      "execution_count": 8,
      "id": "6qJm6qq-iAed",
      "metadata": {
        "id": "6qJm6qq-iAed"
      },
      "outputs": [
        {
          "data": {
            "text/plain": [
              "<All keys matched successfully>"
            ]
          },
          "execution_count": 8,
          "metadata": {},
          "output_type": "execute_result"
        }
      ],
      "source": [
        "llama_model.load_state_dict(state_dict)"
      ]
    },
    {
      "cell_type": "markdown",
      "id": "18228599",
      "metadata": {
        "id": "18228599"
      },
      "source": [
        "### Loading Dataset"
      ]
    },
    {
      "cell_type": "code",
      "execution_count": null,
      "id": "2142bc40",
      "metadata": {
        "id": "2142bc40"
      },
      "outputs": [],
      "source": [
        "ds = load_dataset(\"alibayram/hepsiburada_yorumlar\")"
      ]
    },
    {
      "cell_type": "code",
      "execution_count": 10,
      "id": "l9nhwfZLmqr-",
      "metadata": {
        "id": "l9nhwfZLmqr-"
      },
      "outputs": [],
      "source": [
        "shuffledDS = ds[\"train\"].shuffle(seed=42)"
      ]
    },
    {
      "cell_type": "code",
      "execution_count": 11,
      "id": "5a001dea",
      "metadata": {},
      "outputs": [
        {
          "data": {
            "text/plain": [
              "Dataset({\n",
              "    features: ['Puan', 'Baslik', 'Yorum'],\n",
              "    num_rows: 2657073\n",
              "})"
            ]
          },
          "execution_count": 11,
          "metadata": {},
          "output_type": "execute_result"
        }
      ],
      "source": [
        "shuffledDS"
      ]
    },
    {
      "cell_type": "code",
      "execution_count": 13,
      "id": "7630b7b8",
      "metadata": {},
      "outputs": [
        {
          "data": {
            "application/vnd.jupyter.widget-view+json": {
              "model_id": "75802bccd198403c8995e60bd39fa24c",
              "version_major": 2,
              "version_minor": 0
            },
            "text/plain": [
              "Map:   0%|          | 0/2657073 [00:00<?, ? examples/s]"
            ]
          },
          "metadata": {},
          "output_type": "display_data"
        }
      ],
      "source": [
        "#concat Baslik and Yorum\n",
        "def concat_text(examples):\n",
        "    if examples[\"Baslik\"] and examples[\"Yorum\"]:\n",
        "        return {\"text\": examples[\"Baslik\"] + \" \" + examples[\"Yorum\"]}\n",
        "    elif examples[\"Baslik\"]:\n",
        "        return {\"text\": examples[\"Baslik\"]}\n",
        "    elif examples[\"Yorum\"]:\n",
        "        return {\"text\": examples[\"Yorum\"]}\n",
        "shuffledDS = shuffledDS.map(concat_text, batched=False)\n",
        "#remove Baslik and Yorum columns\n",
        "shuffledDS = shuffledDS.remove_columns([\"Baslik\", \"Yorum\"])"
      ]
    },
    {
      "cell_type": "code",
      "execution_count": 14,
      "id": "06e78f8f",
      "metadata": {},
      "outputs": [
        {
          "data": {
            "application/vnd.jupyter.widget-view+json": {
              "model_id": "8ef37ccfd6fc44a1b2acaa8176869f67",
              "version_major": 2,
              "version_minor": 0
            },
            "text/plain": [
              "Map:   0%|          | 0/2657073 [00:00<?, ? examples/s]"
            ]
          },
          "metadata": {},
          "output_type": "display_data"
        }
      ],
      "source": [
        "def tokenize_dataset(examples):\n",
        "  return {\"tokens\": tokenizer.encode(examples[\"text\"])} \n",
        "tokenizedDS = shuffledDS.map(tokenize_dataset, batched=False, remove_columns=[\"text\"])"
      ]
    },
    {
      "cell_type": "code",
      "execution_count": 15,
      "id": "00973e50",
      "metadata": {},
      "outputs": [
        {
          "data": {
            "text/plain": [
              "Dataset({\n",
              "    features: ['Puan', 'tokens'],\n",
              "    num_rows: 2657073\n",
              "})"
            ]
          },
          "execution_count": 15,
          "metadata": {},
          "output_type": "execute_result"
        }
      ],
      "source": [
        "tokenizedDS"
      ]
    },
    {
      "cell_type": "code",
      "execution_count": 17,
      "id": "eb06ba4b",
      "metadata": {},
      "outputs": [
        {
          "name": "stdout",
          "output_type": "stream",
          "text": [
            "Dataset({\n",
            "    features: ['Puan', 'tokens'],\n",
            "    num_rows: 2125658\n",
            "})\n"
          ]
        }
      ],
      "source": [
        "#train test split \n",
        "train_test_split = tokenizedDS.train_test_split(test_size=0.2, seed=42)\n",
        "train_ds = train_test_split[\"train\"]\n",
        "test_ds = train_test_split[\"test\"]\n",
        "print(train_ds)"
      ]
    },
    {
      "cell_type": "code",
      "execution_count": 18,
      "id": "a90e8514",
      "metadata": {
        "id": "a90e8514"
      },
      "outputs": [
        {
          "name": "stderr",
          "output_type": "stream",
          "text": [
            "100%|██████████| 2125658/2125658 [00:55<00:00, 38630.82it/s]\n"
          ]
        }
      ],
      "source": [
        "tokens_list = []\n",
        "for i in tqdm(range(len(train_ds))):\n",
        "  tokens_list.append(2)\n",
        "  tokens_list.extend(train_ds[i][\"tokens\"])\n",
        "  tokens_list.append(3)"
      ]
    },
    {
      "cell_type": "markdown",
      "id": "e69e1a2e",
      "metadata": {
        "id": "e69e1a2e"
      },
      "source": [
        "### Creating DataLoader"
      ]
    },
    {
      "cell_type": "code",
      "execution_count": 19,
      "id": "15dd279f",
      "metadata": {
        "id": "15dd279f"
      },
      "outputs": [],
      "source": [
        "import torch\n",
        "from torch.utils.data import Dataset, DataLoader\n",
        "\n",
        "pad_id = 1\n",
        "eos_id = 3"
      ]
    },
    {
      "cell_type": "code",
      "execution_count": 20,
      "id": "e6f23043",
      "metadata": {
        "id": "e6f23043"
      },
      "outputs": [],
      "source": [
        "from torch.utils.data import Dataset\n",
        "\n",
        "class TextDataset(Dataset):\n",
        "    def __init__(self, token_ids: list, context_length: int, stride: int):\n",
        "        super().__init__()\n",
        "\n",
        "        self.inputs = []\n",
        "        self.targets = []\n",
        "\n",
        "        for i in range(0, len(token_ids) - context_length, stride):\n",
        "            input_chunk = token_ids[i:i + context_length]\n",
        "            target_chunk = token_ids[i + 1:i + context_length + 1]\n",
        "\n",
        "            # truncate if the chunk is longer than context_length\n",
        "            input_chunk = input_chunk[:context_length]\n",
        "            target_chunk = target_chunk[:context_length]\n",
        "\n",
        "            # pad the input and target chunks to context_length\n",
        "            input_chunk += [pad_id] * (context_length - len(input_chunk))\n",
        "            target_chunk += [pad_id] * (context_length - len(target_chunk))\n",
        "\n",
        "            # truncate if the chunk is longer than context_length\n",
        "            input_chunk = input_chunk[:context_length]\n",
        "            target_chunk = target_chunk[:context_length]\n",
        "\n",
        "            self.inputs.append(torch.tensor(input_chunk, dtype=torch.long))\n",
        "            self.targets.append(torch.tensor(target_chunk, dtype=torch.long))\n",
        "\n",
        "    def __len__(self):\n",
        "        return len(self.inputs)\n",
        "\n",
        "    def __getitem__(self, idx):\n",
        "        return self.inputs[idx], self.targets[idx]"
      ]
    },
    {
      "cell_type": "code",
      "execution_count": 21,
      "id": "9a539402",
      "metadata": {
        "id": "9a539402"
      },
      "outputs": [],
      "source": [
        "def create_dataloader(token_ids: list, context_len: int, stride: int, batch_size: int, shuffle: bool, device: str = \"cpu\"):\n",
        "    dataset = TextDataset(token_ids, context_len, stride)\n",
        "    dataloader = DataLoader(\n",
        "        dataset,\n",
        "        batch_size=batch_size,\n",
        "        shuffle=shuffle,\n",
        "        generator=torch.Generator(device=device)\n",
        "    )\n",
        "    return dataloader"
      ]
    },
    {
      "cell_type": "code",
      "execution_count": 22,
      "id": "4UUZCfPidNih",
      "metadata": {
        "id": "4UUZCfPidNih"
      },
      "outputs": [
        {
          "data": {
            "text/plain": [
              "8191085"
            ]
          },
          "execution_count": 22,
          "metadata": {},
          "output_type": "execute_result"
        }
      ],
      "source": [
        "token_count4loader = int(len(tokens_list)/10)\n",
        "token_count4loader"
      ]
    },
    {
      "cell_type": "markdown",
      "id": "1f23299f",
      "metadata": {
        "id": "1f23299f"
      },
      "source": [
        "### The Training Part"
      ]
    },
    {
      "cell_type": "code",
      "execution_count": 23,
      "id": "DQtXRds9jMM8",
      "metadata": {
        "id": "DQtXRds9jMM8"
      },
      "outputs": [],
      "source": [
        "def generate(model, x: torch.Tensor, max_new_tokens: int): # top_k, top_p, temperature\n",
        "  tokens = x.detach().cpu().numpy().tolist()\n",
        "\n",
        "  for _ in range(max_new_tokens):\n",
        "    x = x.unsqueeze(0).to(device)\n",
        "    out = model.forward(x)\n",
        "    out = out.squeeze(0)\n",
        "    probs = torch.softmax(out[-1], dim=-1)\n",
        "    _, max_index = torch.max(probs, dim=-1)\n",
        "    tokens.append(max_index.item())\n",
        "    if max_index == eos_id or len(tokens) > context_len: # <eos> and max context length\n",
        "      break\n",
        "\n",
        "    x = torch.tensor(tokens)\n",
        "\n",
        "  return tokens"
      ]
    },
    {
      "cell_type": "code",
      "execution_count": null,
      "id": "4z-vDfcj0dko",
      "metadata": {
        "id": "4z-vDfcj0dko"
      },
      "outputs": [
        {
          "name": "stderr",
          "output_type": "stream",
          "text": [
            "  0%|          | 0/500 [00:11<?, ?it/s]\n"
          ]
        },
        {
          "ename": "RuntimeError",
          "evalue": "MPS backend out of memory (MPS allocated: 43.51 GB, other allocations: 2.01 GB, max allowed: 45.90 GB). Tried to allocate 2.00 GB on private pool. Use PYTORCH_MPS_HIGH_WATERMARK_RATIO=0.0 to disable upper limit for memory allocations (may cause system failure).",
          "output_type": "error",
          "traceback": [
            "\u001b[31m---------------------------------------------------------------------------\u001b[39m",
            "\u001b[31mRuntimeError\u001b[39m                              Traceback (most recent call last)",
            "\u001b[36mCell\u001b[39m\u001b[36m \u001b[39m\u001b[32mIn[24]\u001b[39m\u001b[32m, line 30\u001b[39m\n\u001b[32m     26\u001b[39m \u001b[38;5;28;01mfor\u001b[39;00m i, (X, Y) \u001b[38;5;129;01min\u001b[39;00m \u001b[38;5;28menumerate\u001b[39m(tqdm(train_dataloader)):\n\u001b[32m     28\u001b[39m     X, Y = X.to(device), Y.to(device)\n\u001b[32m---> \u001b[39m\u001b[32m30\u001b[39m     pred = \u001b[43mllama_model\u001b[49m\u001b[43m(\u001b[49m\u001b[43mX\u001b[49m\u001b[43m)\u001b[49m\n\u001b[32m     31\u001b[39m     loss = loss_fn(pred.flatten(\u001b[32m0\u001b[39m, \u001b[32m1\u001b[39m), Y.flatten())\n\u001b[32m     32\u001b[39m     total_loss += loss.item()\n",
            "\u001b[36mFile \u001b[39m\u001b[32m/Library/Frameworks/Python.framework/Versions/3.13/lib/python3.13/site-packages/torch/nn/modules/module.py:1751\u001b[39m, in \u001b[36mModule._wrapped_call_impl\u001b[39m\u001b[34m(self, *args, **kwargs)\u001b[39m\n\u001b[32m   1749\u001b[39m     \u001b[38;5;28;01mreturn\u001b[39;00m \u001b[38;5;28mself\u001b[39m._compiled_call_impl(*args, **kwargs)  \u001b[38;5;66;03m# type: ignore[misc]\u001b[39;00m\n\u001b[32m   1750\u001b[39m \u001b[38;5;28;01melse\u001b[39;00m:\n\u001b[32m-> \u001b[39m\u001b[32m1751\u001b[39m     \u001b[38;5;28;01mreturn\u001b[39;00m \u001b[38;5;28;43mself\u001b[39;49m\u001b[43m.\u001b[49m\u001b[43m_call_impl\u001b[49m\u001b[43m(\u001b[49m\u001b[43m*\u001b[49m\u001b[43margs\u001b[49m\u001b[43m,\u001b[49m\u001b[43m \u001b[49m\u001b[43m*\u001b[49m\u001b[43m*\u001b[49m\u001b[43mkwargs\u001b[49m\u001b[43m)\u001b[49m\n",
            "\u001b[36mFile \u001b[39m\u001b[32m/Library/Frameworks/Python.framework/Versions/3.13/lib/python3.13/site-packages/torch/nn/modules/module.py:1762\u001b[39m, in \u001b[36mModule._call_impl\u001b[39m\u001b[34m(self, *args, **kwargs)\u001b[39m\n\u001b[32m   1757\u001b[39m \u001b[38;5;66;03m# If we don't have any hooks, we want to skip the rest of the logic in\u001b[39;00m\n\u001b[32m   1758\u001b[39m \u001b[38;5;66;03m# this function, and just call forward.\u001b[39;00m\n\u001b[32m   1759\u001b[39m \u001b[38;5;28;01mif\u001b[39;00m \u001b[38;5;129;01mnot\u001b[39;00m (\u001b[38;5;28mself\u001b[39m._backward_hooks \u001b[38;5;129;01mor\u001b[39;00m \u001b[38;5;28mself\u001b[39m._backward_pre_hooks \u001b[38;5;129;01mor\u001b[39;00m \u001b[38;5;28mself\u001b[39m._forward_hooks \u001b[38;5;129;01mor\u001b[39;00m \u001b[38;5;28mself\u001b[39m._forward_pre_hooks\n\u001b[32m   1760\u001b[39m         \u001b[38;5;129;01mor\u001b[39;00m _global_backward_pre_hooks \u001b[38;5;129;01mor\u001b[39;00m _global_backward_hooks\n\u001b[32m   1761\u001b[39m         \u001b[38;5;129;01mor\u001b[39;00m _global_forward_hooks \u001b[38;5;129;01mor\u001b[39;00m _global_forward_pre_hooks):\n\u001b[32m-> \u001b[39m\u001b[32m1762\u001b[39m     \u001b[38;5;28;01mreturn\u001b[39;00m \u001b[43mforward_call\u001b[49m\u001b[43m(\u001b[49m\u001b[43m*\u001b[49m\u001b[43margs\u001b[49m\u001b[43m,\u001b[49m\u001b[43m \u001b[49m\u001b[43m*\u001b[49m\u001b[43m*\u001b[49m\u001b[43mkwargs\u001b[49m\u001b[43m)\u001b[49m\n\u001b[32m   1764\u001b[39m result = \u001b[38;5;28;01mNone\u001b[39;00m\n\u001b[32m   1765\u001b[39m called_always_called_hooks = \u001b[38;5;28mset\u001b[39m()\n",
            "\u001b[36mFile \u001b[39m\u001b[32m~/Development/LM-playground/llama_architecture/model_trnsfmrs.py:215\u001b[39m, in \u001b[36mLlamaForCausalLM.forward\u001b[39m\u001b[34m(self, input_ids)\u001b[39m\n\u001b[32m    214\u001b[39m \u001b[38;5;28;01mdef\u001b[39;00m\u001b[38;5;250m \u001b[39m\u001b[34mforward\u001b[39m(\u001b[38;5;28mself\u001b[39m, input_ids: torch.Tensor):\n\u001b[32m--> \u001b[39m\u001b[32m215\u001b[39m     hidden_states = \u001b[38;5;28;43mself\u001b[39;49m\u001b[43m.\u001b[49m\u001b[43mmodel\u001b[49m\u001b[43m(\u001b[49m\u001b[43minput_ids\u001b[49m\u001b[43m)\u001b[49m\n\u001b[32m    216\u001b[39m     \u001b[38;5;28;01mreturn\u001b[39;00m \u001b[38;5;28mself\u001b[39m.lm_head(hidden_states)\n",
            "\u001b[36mFile \u001b[39m\u001b[32m/Library/Frameworks/Python.framework/Versions/3.13/lib/python3.13/site-packages/torch/nn/modules/module.py:1751\u001b[39m, in \u001b[36mModule._wrapped_call_impl\u001b[39m\u001b[34m(self, *args, **kwargs)\u001b[39m\n\u001b[32m   1749\u001b[39m     \u001b[38;5;28;01mreturn\u001b[39;00m \u001b[38;5;28mself\u001b[39m._compiled_call_impl(*args, **kwargs)  \u001b[38;5;66;03m# type: ignore[misc]\u001b[39;00m\n\u001b[32m   1750\u001b[39m \u001b[38;5;28;01melse\u001b[39;00m:\n\u001b[32m-> \u001b[39m\u001b[32m1751\u001b[39m     \u001b[38;5;28;01mreturn\u001b[39;00m \u001b[38;5;28;43mself\u001b[39;49m\u001b[43m.\u001b[49m\u001b[43m_call_impl\u001b[49m\u001b[43m(\u001b[49m\u001b[43m*\u001b[49m\u001b[43margs\u001b[49m\u001b[43m,\u001b[49m\u001b[43m \u001b[49m\u001b[43m*\u001b[49m\u001b[43m*\u001b[49m\u001b[43mkwargs\u001b[49m\u001b[43m)\u001b[49m\n",
            "\u001b[36mFile \u001b[39m\u001b[32m/Library/Frameworks/Python.framework/Versions/3.13/lib/python3.13/site-packages/torch/nn/modules/module.py:1762\u001b[39m, in \u001b[36mModule._call_impl\u001b[39m\u001b[34m(self, *args, **kwargs)\u001b[39m\n\u001b[32m   1757\u001b[39m \u001b[38;5;66;03m# If we don't have any hooks, we want to skip the rest of the logic in\u001b[39;00m\n\u001b[32m   1758\u001b[39m \u001b[38;5;66;03m# this function, and just call forward.\u001b[39;00m\n\u001b[32m   1759\u001b[39m \u001b[38;5;28;01mif\u001b[39;00m \u001b[38;5;129;01mnot\u001b[39;00m (\u001b[38;5;28mself\u001b[39m._backward_hooks \u001b[38;5;129;01mor\u001b[39;00m \u001b[38;5;28mself\u001b[39m._backward_pre_hooks \u001b[38;5;129;01mor\u001b[39;00m \u001b[38;5;28mself\u001b[39m._forward_hooks \u001b[38;5;129;01mor\u001b[39;00m \u001b[38;5;28mself\u001b[39m._forward_pre_hooks\n\u001b[32m   1760\u001b[39m         \u001b[38;5;129;01mor\u001b[39;00m _global_backward_pre_hooks \u001b[38;5;129;01mor\u001b[39;00m _global_backward_hooks\n\u001b[32m   1761\u001b[39m         \u001b[38;5;129;01mor\u001b[39;00m _global_forward_hooks \u001b[38;5;129;01mor\u001b[39;00m _global_forward_pre_hooks):\n\u001b[32m-> \u001b[39m\u001b[32m1762\u001b[39m     \u001b[38;5;28;01mreturn\u001b[39;00m \u001b[43mforward_call\u001b[49m\u001b[43m(\u001b[49m\u001b[43m*\u001b[49m\u001b[43margs\u001b[49m\u001b[43m,\u001b[49m\u001b[43m \u001b[49m\u001b[43m*\u001b[49m\u001b[43m*\u001b[49m\u001b[43mkwargs\u001b[49m\u001b[43m)\u001b[49m\n\u001b[32m   1764\u001b[39m result = \u001b[38;5;28;01mNone\u001b[39;00m\n\u001b[32m   1765\u001b[39m called_always_called_hooks = \u001b[38;5;28mset\u001b[39m()\n",
            "\u001b[36mFile \u001b[39m\u001b[32m~/Development/LM-playground/llama_architecture/model_trnsfmrs.py:199\u001b[39m, in \u001b[36mLlamaModel.forward\u001b[39m\u001b[34m(self, input_ids)\u001b[39m\n\u001b[32m    196\u001b[39m hidden_states = \u001b[38;5;28mself\u001b[39m.embed_tokens(input_ids)\n\u001b[32m    198\u001b[39m \u001b[38;5;28;01mfor\u001b[39;00m layer \u001b[38;5;129;01min\u001b[39;00m \u001b[38;5;28mself\u001b[39m.layers:\n\u001b[32m--> \u001b[39m\u001b[32m199\u001b[39m     hidden_states = \u001b[43mlayer\u001b[49m\u001b[43m(\u001b[49m\u001b[43mhidden_states\u001b[49m\u001b[43m)\u001b[49m\n\u001b[32m    201\u001b[39m hidden_states = \u001b[38;5;28mself\u001b[39m.norm(hidden_states)\n\u001b[32m    202\u001b[39m \u001b[38;5;28;01mreturn\u001b[39;00m hidden_states\n",
            "\u001b[36mFile \u001b[39m\u001b[32m/Library/Frameworks/Python.framework/Versions/3.13/lib/python3.13/site-packages/torch/nn/modules/module.py:1751\u001b[39m, in \u001b[36mModule._wrapped_call_impl\u001b[39m\u001b[34m(self, *args, **kwargs)\u001b[39m\n\u001b[32m   1749\u001b[39m     \u001b[38;5;28;01mreturn\u001b[39;00m \u001b[38;5;28mself\u001b[39m._compiled_call_impl(*args, **kwargs)  \u001b[38;5;66;03m# type: ignore[misc]\u001b[39;00m\n\u001b[32m   1750\u001b[39m \u001b[38;5;28;01melse\u001b[39;00m:\n\u001b[32m-> \u001b[39m\u001b[32m1751\u001b[39m     \u001b[38;5;28;01mreturn\u001b[39;00m \u001b[38;5;28;43mself\u001b[39;49m\u001b[43m.\u001b[49m\u001b[43m_call_impl\u001b[49m\u001b[43m(\u001b[49m\u001b[43m*\u001b[49m\u001b[43margs\u001b[49m\u001b[43m,\u001b[49m\u001b[43m \u001b[49m\u001b[43m*\u001b[49m\u001b[43m*\u001b[49m\u001b[43mkwargs\u001b[49m\u001b[43m)\u001b[49m\n",
            "\u001b[36mFile \u001b[39m\u001b[32m/Library/Frameworks/Python.framework/Versions/3.13/lib/python3.13/site-packages/torch/nn/modules/module.py:1762\u001b[39m, in \u001b[36mModule._call_impl\u001b[39m\u001b[34m(self, *args, **kwargs)\u001b[39m\n\u001b[32m   1757\u001b[39m \u001b[38;5;66;03m# If we don't have any hooks, we want to skip the rest of the logic in\u001b[39;00m\n\u001b[32m   1758\u001b[39m \u001b[38;5;66;03m# this function, and just call forward.\u001b[39;00m\n\u001b[32m   1759\u001b[39m \u001b[38;5;28;01mif\u001b[39;00m \u001b[38;5;129;01mnot\u001b[39;00m (\u001b[38;5;28mself\u001b[39m._backward_hooks \u001b[38;5;129;01mor\u001b[39;00m \u001b[38;5;28mself\u001b[39m._backward_pre_hooks \u001b[38;5;129;01mor\u001b[39;00m \u001b[38;5;28mself\u001b[39m._forward_hooks \u001b[38;5;129;01mor\u001b[39;00m \u001b[38;5;28mself\u001b[39m._forward_pre_hooks\n\u001b[32m   1760\u001b[39m         \u001b[38;5;129;01mor\u001b[39;00m _global_backward_pre_hooks \u001b[38;5;129;01mor\u001b[39;00m _global_backward_hooks\n\u001b[32m   1761\u001b[39m         \u001b[38;5;129;01mor\u001b[39;00m _global_forward_hooks \u001b[38;5;129;01mor\u001b[39;00m _global_forward_pre_hooks):\n\u001b[32m-> \u001b[39m\u001b[32m1762\u001b[39m     \u001b[38;5;28;01mreturn\u001b[39;00m \u001b[43mforward_call\u001b[49m\u001b[43m(\u001b[49m\u001b[43m*\u001b[49m\u001b[43margs\u001b[49m\u001b[43m,\u001b[49m\u001b[43m \u001b[49m\u001b[43m*\u001b[49m\u001b[43m*\u001b[49m\u001b[43mkwargs\u001b[49m\u001b[43m)\u001b[49m\n\u001b[32m   1764\u001b[39m result = \u001b[38;5;28;01mNone\u001b[39;00m\n\u001b[32m   1765\u001b[39m called_always_called_hooks = \u001b[38;5;28mset\u001b[39m()\n",
            "\u001b[36mFile \u001b[39m\u001b[32m~/Development/LM-playground/llama_architecture/model_trnsfmrs.py:173\u001b[39m, in \u001b[36mLlamaDecoderLayer.forward\u001b[39m\u001b[34m(self, hidden_states)\u001b[39m\n\u001b[32m    171\u001b[39m residual = hidden_states\n\u001b[32m    172\u001b[39m hidden_states = \u001b[38;5;28mself\u001b[39m.input_layernorm(hidden_states)\n\u001b[32m--> \u001b[39m\u001b[32m173\u001b[39m hidden_states = \u001b[38;5;28;43mself\u001b[39;49m\u001b[43m.\u001b[49m\u001b[43mself_attn\u001b[49m\u001b[43m(\u001b[49m\u001b[43mhidden_states\u001b[49m\u001b[43m)\u001b[49m\n\u001b[32m    174\u001b[39m hidden_states = hidden_states + residual\n\u001b[32m    176\u001b[39m residual = hidden_states\n",
            "\u001b[36mFile \u001b[39m\u001b[32m/Library/Frameworks/Python.framework/Versions/3.13/lib/python3.13/site-packages/torch/nn/modules/module.py:1751\u001b[39m, in \u001b[36mModule._wrapped_call_impl\u001b[39m\u001b[34m(self, *args, **kwargs)\u001b[39m\n\u001b[32m   1749\u001b[39m     \u001b[38;5;28;01mreturn\u001b[39;00m \u001b[38;5;28mself\u001b[39m._compiled_call_impl(*args, **kwargs)  \u001b[38;5;66;03m# type: ignore[misc]\u001b[39;00m\n\u001b[32m   1750\u001b[39m \u001b[38;5;28;01melse\u001b[39;00m:\n\u001b[32m-> \u001b[39m\u001b[32m1751\u001b[39m     \u001b[38;5;28;01mreturn\u001b[39;00m \u001b[38;5;28;43mself\u001b[39;49m\u001b[43m.\u001b[49m\u001b[43m_call_impl\u001b[49m\u001b[43m(\u001b[49m\u001b[43m*\u001b[49m\u001b[43margs\u001b[49m\u001b[43m,\u001b[49m\u001b[43m \u001b[49m\u001b[43m*\u001b[49m\u001b[43m*\u001b[49m\u001b[43mkwargs\u001b[49m\u001b[43m)\u001b[49m\n",
            "\u001b[36mFile \u001b[39m\u001b[32m/Library/Frameworks/Python.framework/Versions/3.13/lib/python3.13/site-packages/torch/nn/modules/module.py:1762\u001b[39m, in \u001b[36mModule._call_impl\u001b[39m\u001b[34m(self, *args, **kwargs)\u001b[39m\n\u001b[32m   1757\u001b[39m \u001b[38;5;66;03m# If we don't have any hooks, we want to skip the rest of the logic in\u001b[39;00m\n\u001b[32m   1758\u001b[39m \u001b[38;5;66;03m# this function, and just call forward.\u001b[39;00m\n\u001b[32m   1759\u001b[39m \u001b[38;5;28;01mif\u001b[39;00m \u001b[38;5;129;01mnot\u001b[39;00m (\u001b[38;5;28mself\u001b[39m._backward_hooks \u001b[38;5;129;01mor\u001b[39;00m \u001b[38;5;28mself\u001b[39m._backward_pre_hooks \u001b[38;5;129;01mor\u001b[39;00m \u001b[38;5;28mself\u001b[39m._forward_hooks \u001b[38;5;129;01mor\u001b[39;00m \u001b[38;5;28mself\u001b[39m._forward_pre_hooks\n\u001b[32m   1760\u001b[39m         \u001b[38;5;129;01mor\u001b[39;00m _global_backward_pre_hooks \u001b[38;5;129;01mor\u001b[39;00m _global_backward_hooks\n\u001b[32m   1761\u001b[39m         \u001b[38;5;129;01mor\u001b[39;00m _global_forward_hooks \u001b[38;5;129;01mor\u001b[39;00m _global_forward_pre_hooks):\n\u001b[32m-> \u001b[39m\u001b[32m1762\u001b[39m     \u001b[38;5;28;01mreturn\u001b[39;00m \u001b[43mforward_call\u001b[49m\u001b[43m(\u001b[49m\u001b[43m*\u001b[49m\u001b[43margs\u001b[49m\u001b[43m,\u001b[49m\u001b[43m \u001b[49m\u001b[43m*\u001b[49m\u001b[43m*\u001b[49m\u001b[43mkwargs\u001b[49m\u001b[43m)\u001b[49m\n\u001b[32m   1764\u001b[39m result = \u001b[38;5;28;01mNone\u001b[39;00m\n\u001b[32m   1765\u001b[39m called_always_called_hooks = \u001b[38;5;28mset\u001b[39m()\n",
            "\u001b[36mFile \u001b[39m\u001b[32m~/Development/LM-playground/llama_architecture/model_trnsfmrs.py:146\u001b[39m, in \u001b[36mLlamaAttention.forward\u001b[39m\u001b[34m(self, hidden_states)\u001b[39m\n\u001b[32m    143\u001b[39m values = values.transpose(\u001b[32m1\u001b[39m,\u001b[32m2\u001b[39m).contiguous()          \u001b[38;5;66;03m#values[bsz,n_heads,seq_len,head_dim]\u001b[39;00m\n\u001b[32m    145\u001b[39m \u001b[38;5;66;03m# Using Scaled Dot Product Attention to compute attention score and attention output\u001b[39;00m\n\u001b[32m--> \u001b[39m\u001b[32m146\u001b[39m attn_out = \u001b[43mF\u001b[49m\u001b[43m.\u001b[49m\u001b[43mscaled_dot_product_attention\u001b[49m\u001b[43m(\u001b[49m\n\u001b[32m    147\u001b[39m \u001b[43m    \u001b[49m\u001b[43mxq\u001b[49m\u001b[43m,\u001b[49m\u001b[43m \u001b[49m\u001b[43mkeys\u001b[49m\u001b[43m,\u001b[49m\u001b[43m \u001b[49m\u001b[43mvalues\u001b[49m\u001b[43m,\u001b[49m\u001b[43m \u001b[49m\n\u001b[32m    148\u001b[39m \u001b[43m    \u001b[49m\u001b[43mattn_mask\u001b[49m\u001b[43m=\u001b[49m\u001b[38;5;28;43;01mNone\u001b[39;49;00m\u001b[43m,\u001b[49m\u001b[43m  \u001b[49m\n\u001b[32m    149\u001b[39m \u001b[43m    \u001b[49m\u001b[43mis_causal\u001b[49m\u001b[43m=\u001b[49m\u001b[38;5;28;43;01mTrue\u001b[39;49;00m\n\u001b[32m    150\u001b[39m \u001b[43m\u001b[49m\u001b[43m)\u001b[49m \u001b[38;5;66;03m#attn_out[bsz, n_heads, seq_len, head_dim]\u001b[39;00m\n\u001b[32m    152\u001b[39m \u001b[38;5;66;03m# Merge heads back\u001b[39;00m\n\u001b[32m    153\u001b[39m output = attn_out.transpose(\u001b[32m1\u001b[39m, \u001b[32m2\u001b[39m).contiguous().view(batch_size, seq_len, -\u001b[32m1\u001b[39m)\n",
            "\u001b[31mRuntimeError\u001b[39m: MPS backend out of memory (MPS allocated: 43.51 GB, other allocations: 2.01 GB, max allowed: 45.90 GB). Tried to allocate 2.00 GB on private pool. Use PYTORCH_MPS_HIGH_WATERMARK_RATIO=0.0 to disable upper limit for memory allocations (may cause system failure)."
          ]
        }
      ],
      "source": [
        "for i in range(1, 11):\n",
        "  chunk = i\n",
        "  train_dataloader = create_dataloader(tokens_list[(chunk - 1)*token_count4loader:chunk*token_count4loader], context_len, 256, 64, device)\n",
        "\n",
        "  try:\n",
        "    pass\n",
        "  except Exception as E:\n",
        "    print(E)\n",
        "\n",
        "  loss_fn = torch.nn.CrossEntropyLoss()\n",
        "  optimizer = AdamW8bit(llama_model.parameters(), lr=1e-3)\n",
        "\n",
        "  epoch = 2\n",
        "\n",
        "  for epoch in range(epoch):\n",
        "      total_loss = 0\n",
        "      last_loss = 0\n",
        "      for i, (X, Y) in enumerate(tqdm(train_dataloader)):\n",
        "\n",
        "          X, Y = X.to(device), Y.to(device)\n",
        "\n",
        "          pred = llama_model(X)\n",
        "          loss = loss_fn(pred.flatten(0, 1), Y.flatten())\n",
        "          total_loss += loss.item()\n",
        "          last_loss = loss.item()\n",
        "\n",
        "          loss.backward()\n",
        "          optimizer.step()\n",
        "          optimizer.zero_grad()\n",
        "          del pred, loss, X, Y\n",
        "          torch.cuda.empty_cache()\n",
        "\n",
        "      average_loss = total_loss / len(train_dataloader)\n",
        "      print(f\"Epoch {epoch + 1} loss: {last_loss} average loss: {average_loss}\")\n",
        "      try:\n",
        "        pass\n",
        "      except Exception as E:\n",
        "        print(E)\n",
        "      sftorch.save_file(llama_model.state_dict(), f\"llama-50M-DAPT-Hepsiburada/llama_model_{epoch}_{chunk}.safetensors\")\n",
        "      upload_file(path_or_fileobj=f\"llama-50M-DAPT-Hepsiburada/llama_model_{epoch}_{chunk}.safetensors\", repo_id=\"aliarda/llama-50M-DAPT-Hepsiburada\", path_in_repo=\"model.safetensors\")"
      ]
    }
  ],
  "metadata": {
    "accelerator": "GPU",
    "colab": {
      "gpuType": "A100",
      "machine_shape": "hm",
      "provenance": []
    },
    "kernelspec": {
      "display_name": "Python 3",
      "name": "python3"
    },
    "language_info": {
      "codemirror_mode": {
        "name": "ipython",
        "version": 3
      },
      "file_extension": ".py",
      "mimetype": "text/x-python",
      "name": "python",
      "nbconvert_exporter": "python",
      "pygments_lexer": "ipython3",
      "version": "3.13.3"
    }
  },
  "nbformat": 4,
  "nbformat_minor": 5
}
