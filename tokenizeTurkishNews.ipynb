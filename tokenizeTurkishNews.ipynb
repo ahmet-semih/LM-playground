{
 "cells": [
  {
   "cell_type": "code",
   "execution_count": null,
   "id": "aa343271",
   "metadata": {},
   "outputs": [],
   "source": [
    "from tqdm import tqdm\n",
    "from datasets import load_dataset\n",
    "from datasets import DatasetDict\n",
    "from transformers import AutoTokenizer\n",
    "from huggingface_hub import notebook_login"
   ]
  },
  {
   "cell_type": "code",
   "execution_count": null,
   "id": "839d6a2d",
   "metadata": {},
   "outputs": [],
   "source": [
    "notebook_login()"
   ]
  },
  {
   "cell_type": "code",
   "execution_count": null,
   "id": "612e7680",
   "metadata": {},
   "outputs": [],
   "source": [
    "ds = load_dataset(\"habanoz/news-tr-1.8M\")"
   ]
  },
  {
   "cell_type": "code",
   "execution_count": null,
   "id": "58408a4f",
   "metadata": {},
   "outputs": [],
   "source": [
    "fast_tokenizer = AutoTokenizer.from_pretrained(\"aliarda/turkish-news-32k-tokenizer\", use_fast=True)"
   ]
  },
  {
   "cell_type": "code",
   "execution_count": null,
   "id": "0ee47ecc",
   "metadata": {},
   "outputs": [],
   "source": [
    "def tokenize_dataset(examples):\n",
    "  return {\"tokens\": fast_tokenizer.encode(examples[\"text\"])}"
   ]
  },
  {
   "cell_type": "code",
   "execution_count": null,
   "id": "aef362fa",
   "metadata": {},
   "outputs": [],
   "source": [
    "tokenized_dataset = ds[\"train\"].map(tokenize_dataset, batched=False)"
   ]
  },
  {
   "cell_type": "code",
   "execution_count": null,
   "id": "9731e4fd",
   "metadata": {},
   "outputs": [],
   "source": [
    "tokenized_dataset.push_to_hub(\"aliarda/turkish-news-1.8M-tokenized\")\n"
   ]
  }
 ],
 "metadata": {
  "kernelspec": {
   "display_name": "Python 3",
   "language": "python",
   "name": "python3"
  },
  "language_info": {
   "codemirror_mode": {
    "name": "ipython",
    "version": 3
   },
   "file_extension": ".py",
   "mimetype": "text/x-python",
   "name": "python",
   "nbconvert_exporter": "python",
   "pygments_lexer": "ipython3",
   "version": "3.13.3"
  }
 },
 "nbformat": 4,
 "nbformat_minor": 5
}
