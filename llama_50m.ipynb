{
 "cells": [
  {
   "cell_type": "code",
   "execution_count": 20,
   "id": "48d8f37c",
   "metadata": {},
   "outputs": [],
   "source": [
    "import sys\n",
    "sys.path.append('./llama_architecture')\n",
    "\n",
    "import torch\n",
    "from model_trnsfmrs import LlamaForCausalLM\n",
    "from config import LlamaConfig\n",
    "from datasets import load_dataset\n",
    "from safetensors import torch as sftorch\n",
    "from huggingface_hub import HfApi, HfFolder, upload_file"
   ]
  },
  {
   "cell_type": "code",
   "execution_count": 21,
   "id": "f83062a1",
   "metadata": {},
   "outputs": [],
   "source": [
    "def count_parameters(model):\n",
    "    \"\"\"Count the number of parameters in a model\"\"\"\n",
    "    total_params = sum(p.numel() for p in model.parameters())\n",
    "    return total_params"
   ]
  },
  {
   "cell_type": "code",
   "execution_count": 23,
   "id": "464ef42e",
   "metadata": {},
   "outputs": [
    {
     "name": "stdout",
     "output_type": "stream",
     "text": [
      "51521792\n"
     ]
    },
    {
     "data": {
      "text/plain": [
       "LlamaForCausalLM(\n",
       "  (model): LlamaModel(\n",
       "    (embed_tokens): Embedding(32768, 256)\n",
       "    (layers): ModuleList(\n",
       "      (0-19): 20 x LlamaDecoderLayer(\n",
       "        (self_attn): LlamaAttention(\n",
       "          (q_proj): Linear(in_features=256, out_features=256, bias=False)\n",
       "          (k_proj): Linear(in_features=256, out_features=64, bias=False)\n",
       "          (v_proj): Linear(in_features=256, out_features=64, bias=False)\n",
       "          (o_proj): Linear(in_features=256, out_features=256, bias=False)\n",
       "        )\n",
       "        (mlp): LlamaMLP(\n",
       "          (gate_proj): Linear(in_features=256, out_features=2048, bias=False)\n",
       "          (up_proj): Linear(in_features=256, out_features=2048, bias=False)\n",
       "          (down_proj): Linear(in_features=2048, out_features=256, bias=False)\n",
       "          (act_fn): SiLU()\n",
       "        )\n",
       "        (input_layernorm): LlamaRMSNorm()\n",
       "        (post_attention_layernorm): LlamaRMSNorm()\n",
       "      )\n",
       "    )\n",
       "    (norm): LlamaRMSNorm()\n",
       "  )\n",
       "  (lm_head): Linear(in_features=256, out_features=32768, bias=False)\n",
       ")"
      ]
     },
     "execution_count": 23,
     "metadata": {},
     "output_type": "execute_result"
    }
   ],
   "source": [
    "llama_config = LlamaConfig(\n",
    "    vocab_size=32768,\n",
    "    emb_dim=256,\n",
    "    context_length=512,\n",
    "    n_heads=256,\n",
    "    n_layers=20,\n",
    "    n_kv_groups=64,\n",
    "    hidden_dim=2048,\n",
    ")\n",
    "\n",
    "llama_model = LlamaForCausalLM(llama_config)\n",
    "print(count_parameters(llama_model))\n",
    "llama_model"
   ]
  },
  {
   "cell_type": "code",
   "execution_count": null,
   "id": "bf5761b0",
   "metadata": {},
   "outputs": [],
   "source": [
    "sftorch.save_file(llama_model.state_dict(), \"llama-50M.safetensors\")"
   ]
  },
  {
   "cell_type": "code",
   "execution_count": null,
   "id": "2a1e8064",
   "metadata": {},
   "outputs": [],
   "source": [
    "api = HfApi()\n",
    "\n",
    "repo_id = \"aliarda/llama-50M-randParams\"\n",
    "\n",
    "api.create_repo(repo_id, private=False)\n",
    "\n",
    "upload_file(path_or_fileobj=\"llama-50M.safetensors\", repo_id=repo_id, path_in_repo=\"llama-50M.safetensors\")"
   ]
  }
 ],
 "metadata": {
  "kernelspec": {
   "display_name": "Python 3",
   "language": "python",
   "name": "python3"
  },
  "language_info": {
   "codemirror_mode": {
    "name": "ipython",
    "version": 3
   },
   "file_extension": ".py",
   "mimetype": "text/x-python",
   "name": "python",
   "nbconvert_exporter": "python",
   "pygments_lexer": "ipython3",
   "version": "3.13.3"
  }
 },
 "nbformat": 4,
 "nbformat_minor": 5
}
